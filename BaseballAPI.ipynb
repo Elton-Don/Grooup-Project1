{
 "cells": [
  {
   "cell_type": "code",
   "execution_count": 48,
   "metadata": {},
   "outputs": [],
   "source": [
    "import pandas as pd\n",
    "import requests\n",
    "from census import Census\n",
    "\n",
    "\n",
    "from config import (api_key)\n",
    "c = Census(api_key, year=2013)\n",
    "\n"
   ]
  },
  {
   "cell_type": "code",
   "execution_count": 49,
   "metadata": {
    "scrolled": true
   },
   "outputs": [],
   "source": [
    "\n",
    "census_data = c.acs5.get((\"NAME\", \"B01003_001E\"), {'for': 'combined statistical area:*'})\n",
    "\n",
    "census_pd = pd.DataFrame(census_data)\n",
    "\n",
    "\n",
    "census_pd = census_pd.rename(columns={\"B01003_001E\": \"Population\",\n",
    "                                      \"NAME\": \"Name\",})\n",
    "\n"
   ]
  },
  {
   "cell_type": "code",
   "execution_count": 50,
   "metadata": {},
   "outputs": [],
   "source": [
    "stl = census_pd[census_pd['combined statistical area'].str.match('476')]\n",
    "\n",
    "nyc = census_pd[census_pd['combined statistical area'].str.match('408')]\n",
    "\n",
    "la = census_pd[census_pd['combined statistical area'].str.match('348')]\n",
    "\n",
    "chicago = census_pd[census_pd['combined statistical area'].str.match('176')]\n",
    "\n",
    "dallas = census_pd[census_pd['combined statistical area'].str.match('206')]\n",
    "\n",
    "philly = census_pd[census_pd['combined statistical area'].str.match('428')]\n",
    "\n",
    "houston = census_pd[census_pd['combined statistical area'].str.match('288')]\n",
    "\n",
    "dc = census_pd[census_pd['combined statistical area'].str.match('548')]\n",
    "\n",
    "atl = census_pd[census_pd['combined statistical area'].str.match('122')]\n",
    "\n",
    "boston = census_pd[census_pd['combined statistical area'].str.match('148')]\n",
    "\n",
    "detroit = census_pd[census_pd['combined statistical area'].str.match('220')]\n",
    "\n",
    "sf = census_pd[census_pd['combined statistical area'].str.match('488')]\n",
    "\n",
    "seattle = census_pd[census_pd['combined statistical area'].str.match('500')]\n",
    "\n",
    "minneapolis = census_pd[census_pd['combined statistical area'].str.match('378')]\n",
    "\n",
    "baltimore = census_pd[census_pd['combined statistical area'].str.match('548')]\n",
    "\n",
    "denver = census_pd[census_pd['combined statistical area'].str.match('216')]\n",
    "\n",
    "pitt = census_pd[census_pd['combined statistical area'].str.match('430')]\n",
    "\n",
    "cinci = census_pd[census_pd['combined statistical area'].str.match('148')]\n",
    "\n",
    "cleveland = census_pd[census_pd['combined statistical area'].str.match('184')]\n",
    "\n",
    "kc = census_pd[census_pd['combined statistical area'].str.match('312')]\n",
    "\n",
    "milwaukee = census_pd[census_pd['combined statistical area'].str.match('376')]\n",
    "\n",
    "#Codes with problems\n",
    "\n",
    "sd = census_pd[census_pd['combined statistical area'].str.match('')]\n",
    "\n",
    "miami = census_pd[census_pd['combined statistical area'].str.match('')]\n",
    "\n",
    "phoenix = census_pd[census_pd['combined statistical area'].str.match('')]\n",
    "\n",
    "tampa = census_pd[census_pd['combined statistical area'].str.match('')]"
   ]
  },
  {
   "cell_type": "code",
   "execution_count": 55,
   "metadata": {},
   "outputs": [
    {
     "data": {
      "text/plain": [
       "(                                  Name  Population combined statistical area\n",
       " 145  Milwaukee-Racine-Waukesha, WI CSA   2030868.0                       376,\n",
       "                                                  Name  Population  \\\n",
       " 118  Kansas City-Overland Park-Kansas City, MO-KS CSA   2361249.0   \n",
       " \n",
       "     combined statistical area  \n",
       " 118                       312  )"
      ]
     },
     "execution_count": 55,
     "metadata": {},
     "output_type": "execute_result"
    }
   ],
   "source": []
  },
  {
   "cell_type": "code",
   "execution_count": null,
   "metadata": {},
   "outputs": [],
   "source": []
  }
 ],
 "metadata": {
  "kernelspec": {
   "display_name": "Python 3",
   "language": "python",
   "name": "python3"
  },
  "language_info": {
   "codemirror_mode": {
    "name": "ipython",
    "version": 3
   },
   "file_extension": ".py",
   "mimetype": "text/x-python",
   "name": "python",
   "nbconvert_exporter": "python",
   "pygments_lexer": "ipython3",
   "version": "3.7.4"
  }
 },
 "nbformat": 4,
 "nbformat_minor": 2
}
