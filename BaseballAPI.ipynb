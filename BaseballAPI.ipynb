{
 "cells": [
  {
   "cell_type": "code",
   "execution_count": 74,
   "metadata": {},
   "outputs": [],
   "source": [
    "import pandas as pd\n",
    "import requests\n",
    "from census import Census\n",
    "\n",
    "\n",
    "from config import (api_key)\n",
    "c = Census(api_key, year=2013)\n",
    "\n"
   ]
  },
  {
   "cell_type": "code",
   "execution_count": 75,
   "metadata": {
    "scrolled": true
   },
   "outputs": [],
   "source": [
    "\n",
    "census_data = c.acs5.get((\"NAME\", \"B01003_001E\"), {'for': 'metropolitan statistical area/micropolitan statistical area:*'})\n",
    "\n",
    "census_pd = pd.DataFrame(census_data)\n",
    "\n",
    "\n",
    "census_pd = census_pd.rename(columns={\"B01003_001E\": \"Population\",\n",
    "                                      \"NAME\": \"Name\", \"metropolitan statistical area/micropolitan statistical area\": \"MSA\"})"
   ]
  },
  {
   "cell_type": "code",
   "execution_count": 76,
   "metadata": {},
   "outputs": [],
   "source": [
    "ari = census_pd[census_pd['MSA'].str.match('38060')]\n",
    "sd = census_pd[census_pd['MSA'].str.match('41740')]\n",
    "mia = census_pd[census_pd['MSA'].str.match('33100')]\n",
    "tb = census_pd[census_pd['MSA'].str.match('45300')]\n",
    "nym = census_pd[census_pd['MSA'].str.match('35620')]\n",
    "nyy = census_pd[census_pd['MSA'].str.match('35620')]\n",
    "mil = census_pd[census_pd['MSA'].str.match('33340')]\n",
    "kc = census_pd[census_pd['MSA'].str.match('28140')]\n",
    "cle = census_pd[census_pd['MSA'].str.match('17460')]\n",
    "cin = census_pd[census_pd['MSA'].str.match('17140')]\n",
    "pit = census_pd[census_pd['MSA'].str.match('38300')]\n",
    "col = census_pd[census_pd['MSA'].str.match('19740')]\n",
    "bal = census_pd[census_pd['MSA'].str.match('12580')]\n",
    "minn = census_pd[census_pd['MSA'].str.match('33460')]\n",
    "sea = census_pd[census_pd['MSA'].str.match('42660')]\n",
    "sf = census_pd[census_pd['MSA'].str.match('41860')]\n",
    "oak = census_pd[census_pd['MSA'].str.match('41860')]\n",
    "det = census_pd[census_pd['MSA'].str.match('19820')]\n",
    "bos = census_pd[census_pd['MSA'].str.match('71650')]\n",
    "atl = census_pd[census_pd['MSA'].str.match('12060')]\n",
    "wsh = census_pd[census_pd['MSA'].str.match('47900')]\n",
    "hou = census_pd[census_pd['MSA'].str.match('26420')]\n",
    "phi = census_pd[census_pd['MSA'].str.match('37980')]\n",
    "tex = census_pd[census_pd['MSA'].str.match('19100')]\n",
    "chc = census_pd[census_pd['MSA'].str.match('16980')]\n",
    "cws = census_pd[census_pd['MSA'].str.match('16980')]\n",
    "laa = census_pd[census_pd['MSA'].str.match('31100')]\n",
    "lad = census_pd[census_pd['MSA'].str.match('31100')]\n",
    "stl = census_pd[census_pd['MSA'].str.match('41180')]"
   ]
  },
  {
   "cell_type": "code",
   "execution_count": 81,
   "metadata": {},
   "outputs": [
    {
     "data": {
      "text/html": [
       "<div>\n",
       "<style scoped>\n",
       "    .dataframe tbody tr th:only-of-type {\n",
       "        vertical-align: middle;\n",
       "    }\n",
       "\n",
       "    .dataframe tbody tr th {\n",
       "        vertical-align: top;\n",
       "    }\n",
       "\n",
       "    .dataframe thead th {\n",
       "        text-align: right;\n",
       "    }\n",
       "</style>\n",
       "<table border=\"1\" class=\"dataframe\">\n",
       "  <thead>\n",
       "    <tr style=\"text-align: right;\">\n",
       "      <th></th>\n",
       "      <th>Name</th>\n",
       "      <th>Population</th>\n",
       "      <th>MSA</th>\n",
       "    </tr>\n",
       "  </thead>\n",
       "  <tbody>\n",
       "    <tr>\n",
       "      <td>479</td>\n",
       "      <td>San Francisco-Oakland-Hayward, CA Metro Area</td>\n",
       "      <td>4402729.0</td>\n",
       "      <td>41860</td>\n",
       "    </tr>\n",
       "  </tbody>\n",
       "</table>\n",
       "</div>"
      ],
      "text/plain": [
       "                                             Name  Population    MSA\n",
       "479  San Francisco-Oakland-Hayward, CA Metro Area   4402729.0  41860"
      ]
     },
     "execution_count": 81,
     "metadata": {},
     "output_type": "execute_result"
    }
   ],
   "source": []
  },
  {
   "cell_type": "code",
   "execution_count": null,
   "metadata": {},
   "outputs": [],
   "source": []
  }
 ],
 "metadata": {
  "kernelspec": {
   "display_name": "Python 3",
   "language": "python",
   "name": "python3"
  },
  "language_info": {
   "codemirror_mode": {
    "name": "ipython",
    "version": 3
   },
   "file_extension": ".py",
   "mimetype": "text/x-python",
   "name": "python",
   "nbconvert_exporter": "python",
   "pygments_lexer": "ipython3",
   "version": "3.7.4"
  }
 },
 "nbformat": 4,
 "nbformat_minor": 2
}
